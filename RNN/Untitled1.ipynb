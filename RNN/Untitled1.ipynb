{
 "cells": [
  {
   "cell_type": "code",
   "execution_count": null,
   "metadata": {},
   "outputs": [],
   "source": [
    "import numpy as np\n",
    "import matplotlib.pyplot as plt\n",
    "import gdal\n",
    "from keras.layers import Dense\n",
    "from keras import Sequential\n",
    "from keras.utils import np_utils\n",
    "from PIL import Image\n",
    "import filereader\n",
    "import tempreader"
   ]
  },
  {
   "cell_type": "code",
   "execution_count": null,
   "metadata": {
    "collapsed": true
   },
   "outputs": [],
   "source": [
    "row = 436\n",
    "col = 506\n",
    "bands = 4\n",
    "c_c = 6"
   ]
  },
  {
   "cell_type": "code",
   "execution_count": null,
   "metadata": {},
   "outputs": [],
   "source": [
    "def ReadBilFile(bil,bands,pixels):\n",
    "    extract_band = 1\n",
    "    image = np.zeros([pixels, bands], dtype=np.uint8)\n",
    "    gdal.GetDriverByName('EHdr').Register()\n",
    "    img = gdal.Open(bil)\n",
    "    while bands >= extract_band:\n",
    "        bandx = img.GetRasterBand(extract_band)\n",
    "        datax = bandx.ReadAsArray()\n",
    "        temp = datax\n",
    "        store = temp.reshape(pixels)\n",
    "        for i in range(pixels):\n",
    "            image[i][extract_band - 1] = store[i]\n",
    "        extract_band = extract_band + 1\n",
    "    return image\n",
    "\n",
    "print(\"hi\")"
   ]
  },
  {
   "cell_type": "code",
   "execution_count": null,
   "metadata": {},
   "outputs": [],
   "source": [
    "pixels = row * col\n",
    "x_test = ReadBilFile(\"subfebformosat2\", bands, pixels)\n",
    "print(x_test)\n",
    "y_test = np.zeros([row * col], dtype=np.uint8)\n",
    "values = []\n",
    "path = [\"Clay\", \"Dal\" \"forest\", \"Eufinal\", \"Water\", \"Wheat\", \"Grassland\"]\n",
    "dict1 = {\"Clay\":0, \"Dalforest\":0, \"Eufinal\":0, \"Water\":0, \"Wheat\":0, \"Grassland\":0}\n",
    "for address in path:\n",
    "    with open(address, \"rb\") as f:\n",
    "        block = f.read()\n",
    "        for ch in block:\n",
    "            values.append(ch)\n",
    "            dict1[address] += 1\n",
    "\n",
    "\n",
    "ll = (len(values))\n",
    "rex = ll // bands\n",
    "print(ll, rex)\n",
    "f_in = np.zeros([ll//2], dtype=np.uint8)\n",
    "x = 0\n",
    "for i in range(ll):\n",
    "    if i % 2 == 1:\n",
    "        f_in[x] = values[i]\n",
    "        x += 1\n",
    "\n",
    "sh = int(rex // bands)\n",
    "y_train = np.zeros([(dict1[\"Clay\"] + dict1[\"Dalforest\"] + dict1[\"Eufinal\"] + dict1[\"Water\"] + dict1[\"Wheat\"] + dict1[\"Grassland\"])//8], dtype=np.uint8)\n",
    "print((dict1[\"Clay\"] + dict1[\"Dalforest\"] + dict1[\"Eufinal\"] + dict1[\"Water\"] + dict1[\"Wheat\"] + dict1[\"Grassland\"])//2)\n",
    "for i in range(dict1[\"Clay\"]//8):\n",
    "    y_train[i] = 1\n",
    "for i in range(dict1[\"Dalforest\"]//8):\n",
    "    y_train[dict1[\"Clay\"]//8 + i] = 2\n",
    "for i in range(dict1[\"Eufinal\"]//8):\n",
    "    y_train[(dict1[\"Clay\"] + dict1[\"Dalforest\"])//8 + i] = 3\n",
    "for i in range(dict1[\"Water\"]//8):\n",
    "    y_train[(dict1[\"Clay\"] + dict1[\"Dalforest\"] + dict1[\"Eufinal\"])//8 + i] = 4\n",
    "for i in range(dict1[\"Wheat\"]//8):\n",
    "    y_train[(dict1[\"Clay\"] + dict1[\"Dalforest\"] + dict1[\"Eufinal\"] + dict1[\"Water\"])//8 + i] = 5\n",
    "for i in range(dict1[\"Grassland\"]//8):\n",
    "    y_train[(dict1[\"Clay\"] + dict1[\"Dalforest\"] + dict1[\"Eufinal\"] + dict1[\"Water\"] + dict1[\"Wheat\"])//8 + i] = 6\n",
    "\n",
    "print(y_train)\n",
    "print(20*'%')\n",
    "x_train = f_in.reshape(rex//2, bands)\n",
    "\n",
    "# loading of data ends here\n",
    "\n",
    "print(x_train.shape)\n",
    "print(y_train.shape)\n",
    "print(y_test.shape)\n",
    "\n",
    "seed = 7\n",
    "np.random.seed(seed)\n",
    "\n",
    "# normalize inputs from 0-255 to 0-1\n",
    "x_train = x_train / 255\n",
    "\n",
    "num_pixels = bands\n",
    "\n",
    "# one hot encode outputs\n",
    "\n",
    "y_train = np_utils.to_categorical(y_train)\n",
    "y_test = np_utils.to_categorical(y_test)\n",
    "num_classes = c_c\n",
    "y_test_new = np.zeros([pixels, c_c], dtype=np.uint8)\n"
   ]
  },
  {
   "cell_type": "code",
   "execution_count": null,
   "metadata": {
    "collapsed": true
   },
   "outputs": [],
   "source": [
    "print(x_train)\n",
    "print(20*'#')\n",
    "print(y_train)"
   ]
  },
  {
   "cell_type": "code",
   "execution_count": null,
   "metadata": {
    "collapsed": true
   },
   "outputs": [],
   "source": []
  }
 ],
 "metadata": {
  "kernelspec": {
   "display_name": "Python 3",
   "language": "python",
   "name": "python3"
  },
  "language_info": {
   "codemirror_mode": {
    "name": "ipython",
    "version": 3
   },
   "file_extension": ".py",
   "mimetype": "text/x-python",
   "name": "python",
   "nbconvert_exporter": "python",
   "pygments_lexer": "ipython3",
   "version": "3.6.1"
  }
 },
 "nbformat": 4,
 "nbformat_minor": 2
}
